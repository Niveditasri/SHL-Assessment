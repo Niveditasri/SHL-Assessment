{
 "cells": [
  {
   "cell_type": "markdown",
   "id": "19a0e8d5-e4c0-42d1-b7ce-493b6f2726d9",
   "metadata": {},
   "source": [
    "# IMPORTS"
   ]
  },
  {
   "cell_type": "code",
   "execution_count": 5,
   "id": "f4fa3ae2-5b10-4f26-b489-7cb1f8470eb1",
   "metadata": {},
   "outputs": [],
   "source": [
    "import librosa\n",
    "import numpy as np\n",
    "import pandas as pd\n",
    "import tensorflow as tf\n",
    "from sklearn.model_selection import train_test_split, KFold\n",
    "from sklearn.preprocessing import StandardScaler\n",
    "from sklearn.metrics import mean_squared_error\n",
    "from scipy.stats import pearsonr\n",
    "from tensorflow.keras.callbacks import EarlyStopping, ModelCheckpoint\n",
    "from tensorflow.keras.layers import Conv2D, MaxPooling2D, Bidirectional, LSTM, Dense, Dropout, Attention, Input, Reshape, Permute, Flatten, concatenate\n",
    "from tensorflow.keras.models import Model\n",
    "import os\n",
    "from tqdm import tqdm\n",
    "import random\n",
    "import soundfile as sf"
   ]
  },
  {
   "cell_type": "markdown",
   "id": "128597c7-1142-4714-b248-b1731221897f",
   "metadata": {},
   "source": [
    "# Reproducibility"
   ]
  },
  {
   "cell_type": "code",
   "execution_count": 6,
   "id": "f20cc570-2c88-40f7-be14-7396033bfcaf",
   "metadata": {},
   "outputs": [],
   "source": [
    "seed = 42\n",
    "random.seed(seed)\n",
    "np.random.seed(seed)\n",
    "tf.random.set_seed(seed)"
   ]
  },
  {
   "cell_type": "markdown",
   "id": "3bde3b32-5f89-4d70-ba99-06442518f21f",
   "metadata": {},
   "source": [
    "# Step 1: Load Data"
   ]
  },
  {
   "cell_type": "code",
   "execution_count": 17,
   "id": "baf38a02-8943-4398-b107-1f96b7e9b6f1",
   "metadata": {},
   "outputs": [],
   "source": [
    "train_df = pd.read_csv(\"C:/Users/dell/SHL Hiring Assessment/dataset/train.csv\")\n",
    "test_df = pd.read_csv(\"C:/Users/dell/SHL Hiring Assessment/dataset/test.csv\")"
   ]
  },
  {
   "cell_type": "markdown",
   "id": "9b0537ad-f29b-481b-887d-15dfb4ce4ed6",
   "metadata": {},
   "source": [
    "# Step 2: Define Paths"
   ]
  },
  {
   "cell_type": "code",
   "execution_count": 18,
   "id": "d5b24fd9-3327-4e17-a42f-62de82c7b527",
   "metadata": {},
   "outputs": [],
   "source": [
    "train_audio_path = \"C:/Users/dell/SHL Hiring Assessment/dataset/audios_train\"\n",
    "test_audio_path = \"C:/Users/dell/SHL Hiring Assessment/dataset/audios_test\""
   ]
  },
  {
   "cell_type": "markdown",
   "id": "4cb9e047-68b4-412e-b27e-a64c69029bc6",
   "metadata": {},
   "source": [
    "# Step 3: MFCC Feature Extraction"
   ]
  },
  {
   "cell_type": "code",
   "execution_count": 9,
   "id": "28dabf8a-4462-43d9-9ef2-683264b28df6",
   "metadata": {},
   "outputs": [],
   "source": [
    "# 🎧 Step 2: Define a function to extract audio features\n",
    "# Here we extract MFCCs (Mel-frequency cepstral coefficients)\n",
    "import librosa\n",
    "import numpy as np\n",
    "\n",
    "def extract_features(file_path, sr=16000): #sr as parameter for flexibility\n",
    "    try:\n",
    "        y, sr_native = librosa.load(file_path, sr=None) #Load with native sr first\n",
    "        if sr_native != sr:\n",
    "            y = librosa.resample(y, orig_sr=sr_native, target_sr=sr) #Resample if needed\n",
    "\n",
    "        duration = librosa.get_duration(y=y, sr=sr)\n",
    "        rms = np.mean(librosa.feature.rms(y=y))\n",
    "        mfccs = np.mean(librosa.feature.mfcc(y=y, sr=sr, n_mfcc=13).T, axis=0)\n",
    "        chroma = np.mean(librosa.feature.chroma_stft(y=y, sr=sr).T, axis=0)\n",
    "        contrast = np.mean(librosa.feature.spectral_contrast(y=y, sr=sr).T, axis=0)\n",
    "        tonnetz = np.mean(librosa.feature.tonnetz(y=librosa.effects.harmonic(y), sr=sr).T, axis=0)\n",
    "        zcr = np.mean(librosa.feature.zero_crossing_rate(y))\n",
    "        tempo, _ = librosa.beat.beat_track(y=y, sr=sr)\n",
    "        features = np.hstack([duration, rms, zcr, tempo, mfccs, chroma, contrast, tonnetz])\n",
    "        return features\n",
    "    except Exception as e:\n",
    "        print(f\"Error processing {file_path}: {e}\")\n",
    "        return np.zeros(60)"
   ]
  },
  {
   "cell_type": "markdown",
   "id": "21d142b0-d0f3-4c43-9e79-c0578234f96c",
   "metadata": {},
   "source": [
    "# Step 4: Safe Wrapper"
   ]
  },
  {
   "cell_type": "code",
   "execution_count": 10,
   "id": "106b3519-2d8f-4444-9273-7b14cc7b5275",
   "metadata": {},
   "outputs": [],
   "source": [
    "def safe_process(file_folder, filename):\n",
    "    file_path = Path(file_folder) / filename\n",
    "    if file_path.exists():\n",
    "        return extract_features(str(file_path))\n",
    "    else:\n",
    "        print(f\"File not found: {file_path}\")\n",
    "        return np.zeros((13,))"
   ]
  },
  {
   "cell_type": "markdown",
   "id": "036264f1-8735-4cc7-8b37-74065bb4dedf",
   "metadata": {},
   "source": [
    "# Step 5: Feature Extraction (Train + Test)"
   ]
  },
  {
   "cell_type": "code",
   "execution_count": 13,
   "id": "d3fba23a-d13f-47da-87c3-723918617e18",
   "metadata": {},
   "outputs": [
    {
     "name": "stderr",
     "output_type": "stream",
     "text": [
      "C:\\ProgramData\\anaconda3\\Lib\\site-packages\\paramiko\\pkey.py:82: CryptographyDeprecationWarning: TripleDES has been moved to cryptography.hazmat.decrepit.ciphers.algorithms.TripleDES and will be removed from this module in 48.0.0.\n",
      "  \"cipher\": algorithms.TripleDES,\n",
      "C:\\ProgramData\\anaconda3\\Lib\\site-packages\\paramiko\\transport.py:219: CryptographyDeprecationWarning: Blowfish has been moved to cryptography.hazmat.decrepit.ciphers.algorithms.Blowfish and will be removed from this module in 45.0.0.\n",
      "  \"class\": algorithms.Blowfish,\n",
      "C:\\ProgramData\\anaconda3\\Lib\\site-packages\\paramiko\\transport.py:243: CryptographyDeprecationWarning: TripleDES has been moved to cryptography.hazmat.decrepit.ciphers.algorithms.TripleDES and will be removed from this module in 48.0.0.\n",
      "  \"class\": algorithms.TripleDES,\n",
      "Extracting Train Features: 100%|███████████████████████████████████████████████████| 444/444 [1:12:51<00:00,  9.85s/it]\n",
      "Extracting Test Features:  25%|█████████████▌                                         | 48/195 [05:32<13:11,  5.38s/it]"
     ]
    },
    {
     "name": "stdout",
     "output_type": "stream",
     "text": [
      "Missing test file: C:\\Users\\dell\\SHL Hiring Assessment\\dataset\\audios_test\\audio_177.wav\n"
     ]
    },
    {
     "name": "stderr",
     "output_type": "stream",
     "text": [
      "Extracting Test Features:  37%|████████████████████▌                                  | 73/195 [07:58<09:20,  4.60s/it]"
     ]
    },
    {
     "name": "stdout",
     "output_type": "stream",
     "text": [
      "Missing test file: C:\\Users\\dell\\SHL Hiring Assessment\\dataset\\audios_test\\audio_435.wav\n"
     ]
    },
    {
     "name": "stderr",
     "output_type": "stream",
     "text": [
      "Extracting Test Features:  53%|████████████████████████████▌                         | 103/195 [10:12<15:59, 10.43s/it]"
     ]
    },
    {
     "name": "stdout",
     "output_type": "stream",
     "text": [
      "Missing test file: C:\\Users\\dell\\SHL Hiring Assessment\\dataset\\audios_test\\audio_300.wav\n"
     ]
    },
    {
     "name": "stderr",
     "output_type": "stream",
     "text": [
      "Extracting Test Features:  59%|███████████████████████████████▊                      | 115/195 [10:55<05:17,  3.97s/it]"
     ]
    },
    {
     "name": "stdout",
     "output_type": "stream",
     "text": [
      "Missing test file: C:\\Users\\dell\\SHL Hiring Assessment\\dataset\\audios_test\\audio_521.wav\n"
     ]
    },
    {
     "name": "stderr",
     "output_type": "stream",
     "text": [
      "Extracting Test Features:  62%|█████████████████████████████████▏                    | 120/195 [11:06<03:27,  2.77s/it]"
     ]
    },
    {
     "name": "stdout",
     "output_type": "stream",
     "text": [
      "Missing test file: C:\\Users\\dell\\SHL Hiring Assessment\\dataset\\audios_test\\audio_165.wav\n"
     ]
    },
    {
     "name": "stderr",
     "output_type": "stream",
     "text": [
      "Extracting Test Features:  77%|█████████████████████████████████████████▊            | 151/195 [13:19<02:38,  3.59s/it]"
     ]
    },
    {
     "name": "stdout",
     "output_type": "stream",
     "text": [
      "Missing test file: C:\\Users\\dell\\SHL Hiring Assessment\\dataset\\audios_test\\audio_519.wav\n",
      "Missing test file: C:\\Users\\dell\\SHL Hiring Assessment\\dataset\\audios_test\\audio_564.wav\n"
     ]
    },
    {
     "name": "stderr",
     "output_type": "stream",
     "text": [
      "Extracting Test Features:  84%|█████████████████████████████████████████████▍        | 164/195 [14:10<02:14,  4.32s/it]"
     ]
    },
    {
     "name": "stdout",
     "output_type": "stream",
     "text": [
      "Missing test file: C:\\Users\\dell\\SHL Hiring Assessment\\dataset\\audios_test\\audio_235.wav\n"
     ]
    },
    {
     "name": "stderr",
     "output_type": "stream",
     "text": [
      "Extracting Test Features:  90%|████████████████████████████████████████████████▍     | 175/195 [15:28<01:49,  5.46s/it]"
     ]
    },
    {
     "name": "stdout",
     "output_type": "stream",
     "text": [
      "Missing test file: C:\\Users\\dell\\SHL Hiring Assessment\\dataset\\audios_test\\audio_422.wav\n"
     ]
    },
    {
     "name": "stderr",
     "output_type": "stream",
     "text": [
      "Extracting Test Features: 100%|██████████████████████████████████████████████████████| 195/195 [17:02<00:00,  5.24s/it]\n"
     ]
    }
   ],
   "source": [
    "from tqdm import tqdm\n",
    "from pathlib import Path\n",
    "\n",
    "X_train, X_test, valid_test_filenames = [], [], []\n",
    "\n",
    "# Train Feature Extraction\n",
    "for file in tqdm(train_df['filename'], desc=\"Extracting Train Features\"):\n",
    "    features = safe_process(train_audio_path, file)\n",
    "    X_train.append(features)\n",
    "\n",
    "# Test Feature Extraction\n",
    "for file in tqdm(test_df['filename'], desc=\"Extracting Test Features\"):\n",
    "    path = Path(test_audio_path) / file\n",
    "    if path.exists():\n",
    "        X_test.append(extract_features(str(path)))\n",
    "    else:\n",
    "        print(f\"Missing test file: {path}\")\n",
    "        X_test.append(np.zeros(60))  # Placeholder\n",
    "    valid_test_filenames.append(file)\n",
    "import numpy as np\n",
    "\n",
    "def fix_length(features, desired_length=60):\n",
    "    features = np.array(features)\n",
    "    if len(features) < desired_length:\n",
    "        return np.pad(features, (0, desired_length - len(features)))\n",
    "    elif len(features) > desired_length:\n",
    "        return features[:desired_length]\n",
    "    return features\n",
    "\n",
    "# Apply fix to both\n",
    "X_train = [fix_length(f) for f in X_train]\n",
    "X_test = [fix_length(f) for f in X_test]\n",
    "\n",
    "# Convert to numpy\n",
    "X_train = np.array(X_train)\n",
    "X_test = np.array(X_test)\n",
    "y_train = train_df['label'].values"
   ]
  },
  {
   "cell_type": "code",
   "execution_count": 9,
   "id": "dd1a97bd-c3ae-4870-a8a6-9c3cd11a1f7b",
   "metadata": {},
   "outputs": [],
   "source": [
    "# Debugging: check feature lengths\n",
    "for i, feat in enumerate(X_test):\n",
    "    if len(feat) != 60:\n",
    "        print(f\"Test feature at index {i} has length {len(feat)}\")"
   ]
  },
  {
   "cell_type": "code",
   "execution_count": 10,
   "id": "b1a9a1cc-557b-4cd9-bfb2-635b80a70614",
   "metadata": {},
   "outputs": [],
   "source": [
    "for i, feat in enumerate(X_train):\n",
    "    if len(feat) != 60:\n",
    "        print(f\"Train feature at index {i} has length {len(feat)}\")"
   ]
  },
  {
   "cell_type": "code",
   "execution_count": null,
   "id": "5a47b568-d91c-425a-88a7-dfdca7bf07b3",
   "metadata": {},
   "outputs": [],
   "source": [
    "import os\n",
    "import numpy as np\n",
    "from pathlib import Path\n",
    "from tqdm import tqdm\n",
    "from concurrent.futures import ThreadPoolExecutor\n",
    "\n",
    "# Function to process a single file\n",
    "def process_audio_file(file_path):\n",
    "    file_path = Path(file_path)\n",
    "    if file_path.exists():\n",
    "        return extract_features(str(file_path))\n",
    "    else:\n",
    "        print(f\"File not found: {file_path}\")\n",
    "        return np.zeros(60)\n",
    "\n",
    "# Wrapper to enable tqdm with ThreadPoolExecutor\n",
    "def parallel_process(files, base_path, max_workers=8, desc=\"Processing\"):\n",
    "    results = []\n",
    "    with ThreadPoolExecutor(max_workers=max_workers) as executor:\n",
    "        futures = [executor.submit(process_audio_file, os.path.join(base_path, file)) for file in files]\n",
    "        for f in tqdm(futures, desc=desc):\n",
    "            results.append(f.result())\n",
    "    return np.array(results)\n",
    "\n",
    "# Run parallel feature extraction\n",
    "X_train = parallel_process(train_df['filename'], train_audio_path, desc=\"Extracting Train Features\")\n",
    "X_test = parallel_process(test_df['filename'], test_audio_path, desc=\"Extracting Test Features\")\n",
    "y_train = train_df['label'].values"
   ]
  },
  {
   "cell_type": "markdown",
   "id": "9d8aaa8a-ae6f-4596-b738-5fbe7ab6b25a",
   "metadata": {},
   "source": [
    "# Step 6: Scale the Features"
   ]
  },
  {
   "cell_type": "code",
   "execution_count": null,
   "id": "4ba5091b-4985-4fb5-a039-b3edfd17dfaf",
   "metadata": {},
   "outputs": [],
   "source": [
    "from sklearn.preprocessing import StandardScaler, RobustScaler\n",
    "from sklearn.decomposition import PCA\n",
    "#Data scaling and PCA\n",
    "scaler = RobustScaler() #More robust to outliers than StandardScaler\n",
    "X_train_scaled = scaler.fit_transform(X_train)\n",
    "X_test_scaled = scaler.transform(X_test)\n",
    "\n",
    "pca = PCA(n_components=0.95, random_state=42)\n",
    "X_train_pca = pca.fit_transform(X_train_scaled)\n",
    "X_test_pca = pca.transform(X_test_scaled)\n",
    "print(f\"Number of PCA components selected: {pca.n_components_}\")"
   ]
  },
  {
   "cell_type": "markdown",
   "id": "89ebb170-72c9-47b8-a20b-c280ecf4b520",
   "metadata": {},
   "source": [
    "# **Random Forest Regressor** "
   ]
  },
  {
   "cell_type": "markdown",
   "id": "8ac6be12-9ddc-4130-a6cd-54b5f16bc57d",
   "metadata": {},
   "source": [
    "## An ensemble learning method based on decision trees. It works well with non-linear and noisy data like audio features, and handles overfitting better due to averaging."
   ]
  },
  {
   "cell_type": "markdown",
   "id": "74863199-2baa-443a-b185-828a51ecb418",
   "metadata": {},
   "source": [
    "## Step 7 : Random Forest with RandomizedSearchCV"
   ]
  },
  {
   "cell_type": "code",
   "execution_count": 12,
   "id": "e99ebbd7-3aef-40a6-bb88-e26fc94f7398",
   "metadata": {},
   "outputs": [
    {
     "name": "stdout",
     "output_type": "stream",
     "text": [
      "Fitting 5 folds for each of 20 candidates, totalling 100 fits\n",
      " Best Hyperparameters: {'n_estimators': 100, 'min_samples_split': 10, 'min_samples_leaf': 4, 'max_depth': 10}\n"
     ]
    }
   ],
   "source": [
    "from sklearn.ensemble import RandomForestRegressor\n",
    "from sklearn.model_selection import RandomizedSearchCV, train_test_split\n",
    "\n",
    "# Split for validation\n",
    "X_tr, X_val, y_tr, y_val = train_test_split(X_train_pca, y_train, test_size=0.2, random_state=42)\n",
    "\n",
    "param_dist = {\n",
    "    \"n_estimators\": [50, 100, 150, 200],\n",
    "    \"max_depth\": [None, 10, 15, 20],\n",
    "    \"min_samples_split\": [2, 5, 10],\n",
    "    \"min_samples_leaf\": [1, 2, 4]\n",
    "}\n",
    "\n",
    "rf = RandomForestRegressor(random_state=42)\n",
    "\n",
    "random_search = RandomizedSearchCV(\n",
    "    estimator=rf,\n",
    "    param_distributions=param_dist,\n",
    "    n_iter=20,\n",
    "    cv=5,\n",
    "    scoring='r2',\n",
    "    n_jobs=-1,\n",
    "    random_state=42,\n",
    "    verbose=1\n",
    ")\n",
    "\n",
    "random_search.fit(X_tr, y_tr)\n",
    "best_rf = random_search.best_estimator_\n",
    "print(\" Best Hyperparameters:\", random_search.best_params_)"
   ]
  },
  {
   "cell_type": "markdown",
   "id": "c5161d81-bf36-4a76-b6b8-25bcc46b3c97",
   "metadata": {},
   "source": [
    "## Step 8: Evaluation (Pearson, MAE, MSE, R²)"
   ]
  },
  {
   "cell_type": "code",
   "execution_count": 13,
   "id": "65064a93-a69e-45e7-8a86-8ddfef8905dd",
   "metadata": {},
   "outputs": [
    {
     "name": "stdout",
     "output_type": "stream",
     "text": [
      " MAE: 1.0047\n",
      " MSE: 1.3453\n",
      " R² Score: 0.0131\n",
      " Pearson Correlation: 0.2193\n"
     ]
    }
   ],
   "source": [
    "from sklearn.metrics import mean_squared_error, mean_absolute_error, r2_score\n",
    "from scipy.stats import pearsonr\n",
    "\n",
    "y_val_pred = best_rf.predict(X_val)\n",
    "\n",
    "# Evaluation\n",
    "mae = mean_absolute_error(y_val, y_val_pred)\n",
    "mse = mean_squared_error(y_val, y_val_pred)\n",
    "r2 = r2_score(y_val, y_val_pred)\n",
    "pearson_corr, _ = pearsonr(y_val, y_val_pred)\n",
    "\n",
    "print(f\" MAE: {mae:.4f}\")\n",
    "print(f\" MSE: {mse:.4f}\")\n",
    "print(f\" R² Score: {r2:.4f}\")\n",
    "print(f\" Pearson Correlation: {pearson_corr:.4f}\")"
   ]
  },
  {
   "cell_type": "markdown",
   "id": "14d8b6e4-52c7-44e8-b0ce-4c4f2c1bd681",
   "metadata": {},
   "source": [
    "## Step 9: Final Predictions on Full Test Set"
   ]
  },
  {
   "cell_type": "code",
   "execution_count": 14,
   "id": "64670265-6871-4d8b-9d03-ddb6d2b40f0a",
   "metadata": {},
   "outputs": [],
   "source": [
    "# Final Test Predictions\n",
    "y_test_pred = best_rf.predict(X_test_pca)"
   ]
  },
  {
   "cell_type": "markdown",
   "id": "1a129c40-a737-4ba5-b2c7-f4a8ba1cf12f",
   "metadata": {},
   "source": [
    "## Step 10: Visualizations"
   ]
  },
  {
   "cell_type": "code",
   "execution_count": 15,
   "id": "5ea96f06-204a-4ecf-9f69-d0a0eded4559",
   "metadata": {},
   "outputs": [
    {
     "data": {
      "image/png": "[encoded data removed]",
      "text/plain": [
       "<Figure size 800x600 with 1 Axes>"
      ]
     },
     "metadata": {},
     "output_type": "display_data"
    },
    {
     "data": {
      "image/png": "[encoded data removed]",
      "text/plain": [
       "<Figure size 800x400 with 1 Axes>"
      ]
     },
     "metadata": {},
     "output_type": "display_data"
    },
    {
     "data": {
      "image/png": "[encoded data removed]",
      "text/plain": [
       "<Figure size 800x500 with 1 Axes>"
      ]
     },
     "metadata": {},
     "output_type": "display_data"
    }
   ],
   "source": [
    "import seaborn as sns\n",
    "import matplotlib.pyplot as plt\n",
    "\n",
    "# Actual vs Predicted\n",
    "plt.figure(figsize=(8, 6))\n",
    "sns.scatterplot(x=y_val, y=y_val_pred, color='green', s=60)\n",
    "plt.plot([y_val.min(), y_val.max()], [y_val.min(), y_val.max()], 'r--')\n",
    "plt.title(\"Actual vs Predicted Grammar Score (Validation Set)\")\n",
    "plt.xlabel(\"Actual Score\")\n",
    "plt.ylabel(\"Predicted Score\")\n",
    "plt.grid(True)\n",
    "plt.show()\n",
    "\n",
    "# Residuals\n",
    "residuals = y_val - y_val_pred\n",
    "plt.figure(figsize=(8, 4))\n",
    "sns.histplot(residuals, kde=True, color='purple')\n",
    "plt.title(\"Residual Distribution\")\n",
    "plt.xlabel(\"Residuals\")\n",
    "plt.grid(True)\n",
    "plt.show()\n",
    "\n",
    "# Feature Importance Plot\n",
    "importances = best_rf.feature_importances_\n",
    "indices = np.argsort(importances)[-10:]  # Top 10 features\n",
    "\n",
    "plt.figure(figsize=(8, 5))\n",
    "plt.title(\"Top 10 Feature Importances\")\n",
    "plt.barh(range(len(indices)), importances[indices], align=\"center\")\n",
    "plt.yticks(range(len(indices)), [f\"PC {i+1}\" for i in indices])\n",
    "plt.xlabel(\"Relative Importance\")\n",
    "plt.grid(True)\n",
    "plt.show()"
   ]
  },
  {
   "cell_type": "markdown",
   "id": "8459c0bc-6208-4a1d-b66f-cfb2d9ed994d",
   "metadata": {},
   "source": [
    "## Step 11: Test Predictions & Submission"
   ]
  },
  {
   "cell_type": "code",
   "execution_count": 16,
   "id": "fcf3ef9d-ae5d-4722-ad33-1e7d7f5d3a43",
   "metadata": {},
   "outputs": [
    {
     "name": "stdout",
     "output_type": "stream",
     "text": [
      " Submission file saved as `RANDOM_FOREST_TEST.csv`\n"
     ]
    }
   ],
   "source": [
    "# Final Test Predictions using Random Forest\n",
    "y_test_pred = best_rf.predict(X_test_pca)\n",
    "\n",
    "# Fill predictions for all 196 test files\n",
    "full_test_filenames = test_df['filename'].tolist()\n",
    "predicted_labels = []\n",
    "\n",
    "valid_preds_dict = dict(zip(valid_test_filenames, y_test_pred))\n",
    "\n",
    "for fname in full_test_filenames:\n",
    "    if fname in valid_preds_dict:\n",
    "        predicted_labels.append(valid_preds_dict[fname])\n",
    "    else:\n",
    "        predicted_labels.append(-1)  # Placeholder for missing audio files\n",
    "\n",
    "# Build submission DataFrame\n",
    "submission_df = pd.DataFrame({\n",
    "    'filename': full_test_filenames,\n",
    "    'label': predicted_labels\n",
    "})\n",
    "\n",
    "# Save submission with a model-specific name for ensembling\n",
    "submission_df.to_csv(\"RANDOM_FOREST_TEST.csv\", index=False)\n",
    "print(\" Submission file saved as `RANDOM_FOREST_TEST.csv`\")"
   ]
  },
  {
   "cell_type": "markdown",
   "id": "a5f4607e-d465-4762-85ce-10024f0ba982",
   "metadata": {},
   "source": [
    "# **CNN+LSTM Pipeline**"
   ]
  },
  {
   "cell_type": "markdown",
   "id": "541c24e6-53f9-4487-9e43-5a1261a4baaa",
   "metadata": {},
   "source": [
    "## Step 1: Reshape the Input Data"
   ]
  },
  {
   "cell_type": "code",
   "execution_count": 17,
   "id": "db236128-7062-4cdf-9862-a5a2c3b02fa1",
   "metadata": {},
   "outputs": [
    {
     "name": "stdout",
     "output_type": "stream",
     "text": [
      "Original X_train_scaled shape: (444, 60)\n",
      "Reshaped X_train_seq: (444, 1, 60)\n"
     ]
    }
   ],
   "source": [
    "# Check original shape\n",
    "print(\"Original X_train_scaled shape:\", X_train_scaled.shape)  # e.g. (444, 60)\n",
    "\n",
    "# Reshape to 3D for CNN-LSTM: (samples, timesteps, features)\n",
    "X_train_seq = X_train_scaled.reshape((X_train_scaled.shape[0], 1, X_train_scaled.shape[1]))\n",
    "X_test_seq = X_test_scaled.reshape((X_test_scaled.shape[0], 1, X_test_scaled.shape[1]))\n",
    "\n",
    "print(\"Reshaped X_train_seq:\", X_train_seq.shape)  # should be (444, 1, 60)"
   ]
  },
  {
   "cell_type": "markdown",
   "id": "434a8df1-1cc5-45ab-9f17-5e77bebef5b1",
   "metadata": {},
   "source": [
    "## Step 2: Build the CNN + LSTM Model"
   ]
  },
  {
   "cell_type": "code",
   "execution_count": 18,
   "id": "7078c752-04eb-4b9b-832b-6ae4e7e1de9a",
   "metadata": {},
   "outputs": [],
   "source": [
    "from tensorflow.keras import Input, Sequential\n",
    "from tensorflow.keras.layers import Conv1D, MaxPooling1D, LSTM, Dropout, Dense\n",
    "from tensorflow.keras.optimizers import Adam\n",
    "\n",
    "# Define model architecture\n",
    "input_shape = (X_train_seq.shape[1], X_train_seq.shape[2])  # (1, num_features)\n",
    "\n",
    "model = Sequential([\n",
    "    Input(shape=input_shape),\n",
    "\n",
    "    # 1D Convolution Layer\n",
    "    Conv1D(filters=64, kernel_size=1, activation='relu'),\n",
    "    \n",
    "    # Optional Max Pooling\n",
    "    MaxPooling1D(pool_size=1),\n",
    "    \n",
    "    # LSTM Layer\n",
    "    LSTM(128, return_sequences=False),\n",
    "    \n",
    "    # Dropout for regularization\n",
    "    Dropout(0.3),\n",
    "    \n",
    "    # Fully Connected Dense Layer\n",
    "    Dense(64, activation='relu'),\n",
    "    \n",
    "    # Output Layer (regression)\n",
    "    Dense(1)\n",
    "])"
   ]
  },
  {
   "cell_type": "code",
   "execution_count": 19,
   "id": "bbc9a5ea-8d10-4227-9ed9-fbfdd8021233",
   "metadata": {},
   "outputs": [
    {
     "data": {
      "text/html": [
       "<pre style=\"white-space:pre;overflow-x:auto;line-height:normal;font-family:Menlo,'DejaVu Sans Mono',consolas,'Courier New',monospace\"><span style=\"font-weight: bold\">Model: \"sequential\"</span>\n",
       "</pre>\n"
      ],
      "text/plain": [
       "\u001b[1mModel: \"sequential\"\u001b[0m\n"
      ]
     },
     "metadata": {},
     "output_type": "display_data"
    },
    {
     "data": {
      "text/html": [
       "<pre style=\"white-space:pre;overflow-x:auto;line-height:normal;font-family:Menlo,'DejaVu Sans Mono',consolas,'Courier New',monospace\">┏━━━━━━━━━━━━━━━━━━━━━━━━━━━━━━━━━━━━━━┳━━━━━━━━━━━━━━━━━━━━━━━━━━━━━┳━━━━━━━━━━━━━━━━━┓\n",
       "┃<span style=\"font-weight: bold\"> Layer (type)                         </span>┃<span style=\"font-weight: bold\"> Output Shape                </span>┃<span style=\"font-weight: bold\">         Param # </span>┃\n",
       "┡━━━━━━━━━━━━━━━━━━━━━━━━━━━━━━━━━━━━━━╇━━━━━━━━━━━━━━━━━━━━━━━━━━━━━╇━━━━━━━━━━━━━━━━━┩\n",
       "│ conv1d (<span style=\"color: #0087ff; text-decoration-color: #0087ff\">Conv1D</span>)                      │ (<span style=\"color: #00d7ff; text-decoration-color: #00d7ff\">None</span>, <span style=\"color: #00af00; text-decoration-color: #00af00\">1</span>, <span style=\"color: #00af00; text-decoration-color: #00af00\">64</span>)               │           <span style=\"color: #00af00; text-decoration-color: #00af00\">3,904</span> │\n",
       "├──────────────────────────────────────┼─────────────────────────────┼─────────────────┤\n",
       "│ max_pooling1d (<span style=\"color: #0087ff; text-decoration-color: #0087ff\">MaxPooling1D</span>)         │ (<span style=\"color: #00d7ff; text-decoration-color: #00d7ff\">None</span>, <span style=\"color: #00af00; text-decoration-color: #00af00\">1</span>, <span style=\"color: #00af00; text-decoration-color: #00af00\">64</span>)               │               <span style=\"color: #00af00; text-decoration-color: #00af00\">0</span> │\n",
       "├──────────────────────────────────────┼─────────────────────────────┼─────────────────┤\n",
       "│ lstm (<span style=\"color: #0087ff; text-decoration-color: #0087ff\">LSTM</span>)                          │ (<span style=\"color: #00d7ff; text-decoration-color: #00d7ff\">None</span>, <span style=\"color: #00af00; text-decoration-color: #00af00\">128</span>)                 │          <span style=\"color: #00af00; text-decoration-color: #00af00\">98,816</span> │\n",
       "├──────────────────────────────────────┼─────────────────────────────┼─────────────────┤\n",
       "│ dropout (<span style=\"color: #0087ff; text-decoration-color: #0087ff\">Dropout</span>)                    │ (<span style=\"color: #00d7ff; text-decoration-color: #00d7ff\">None</span>, <span style=\"color: #00af00; text-decoration-color: #00af00\">128</span>)                 │               <span style=\"color: #00af00; text-decoration-color: #00af00\">0</span> │\n",
       "├──────────────────────────────────────┼─────────────────────────────┼─────────────────┤\n",
       "│ dense (<span style=\"color: #0087ff; text-decoration-color: #0087ff\">Dense</span>)                        │ (<span style=\"color: #00d7ff; text-decoration-color: #00d7ff\">None</span>, <span style=\"color: #00af00; text-decoration-color: #00af00\">64</span>)                  │           <span style=\"color: #00af00; text-decoration-color: #00af00\">8,256</span> │\n",
       "├──────────────────────────────────────┼─────────────────────────────┼─────────────────┤\n",
       "│ dense_1 (<span style=\"color: #0087ff; text-decoration-color: #0087ff\">Dense</span>)                      │ (<span style=\"color: #00d7ff; text-decoration-color: #00d7ff\">None</span>, <span style=\"color: #00af00; text-decoration-color: #00af00\">1</span>)                   │              <span style=\"color: #00af00; text-decoration-color: #00af00\">65</span> │\n",
       "└──────────────────────────────────────┴─────────────────────────────┴─────────────────┘\n",
       "</pre>\n"
      ],
      "text/plain": [
       "┏━━━━━━━━━━━━━━━━━━━━━━━━━━━━━━━━━━━━━━┳━━━━━━━━━━━━━━━━━━━━━━━━━━━━━┳━━━━━━━━━━━━━━━━━┓\n",
       "┃\u001b[1m \u001b[0m\u001b[1mLayer (type)                        \u001b[0m\u001b[1m \u001b[0m┃\u001b[1m \u001b[0m\u001b[1mOutput Shape               \u001b[0m\u001b[1m \u001b[0m┃\u001b[1m \u001b[0m\u001b[1m        Param #\u001b[0m\u001b[1m \u001b[0m┃\n",
       "┡━━━━━━━━━━━━━━━━━━━━━━━━━━━━━━━━━━━━━━╇━━━━━━━━━━━━━━━━━━━━━━━━━━━━━╇━━━━━━━━━━━━━━━━━┩\n",
       "│ conv1d (\u001b[38;5;33mConv1D\u001b[0m)                      │ (\u001b[38;5;45mNone\u001b[0m, \u001b[38;5;34m1\u001b[0m, \u001b[38;5;34m64\u001b[0m)               │           \u001b[38;5;34m3,904\u001b[0m │\n",
       "├──────────────────────────────────────┼─────────────────────────────┼─────────────────┤\n",
       "│ max_pooling1d (\u001b[38;5;33mMaxPooling1D\u001b[0m)         │ (\u001b[38;5;45mNone\u001b[0m, \u001b[38;5;34m1\u001b[0m, \u001b[38;5;34m64\u001b[0m)               │               \u001b[38;5;34m0\u001b[0m │\n",
       "├──────────────────────────────────────┼─────────────────────────────┼─────────────────┤\n",
       "│ lstm (\u001b[38;5;33mLSTM\u001b[0m)                          │ (\u001b[38;5;45mNone\u001b[0m, \u001b[38;5;34m128\u001b[0m)                 │          \u001b[38;5;34m98,816\u001b[0m │\n",
       "├──────────────────────────────────────┼─────────────────────────────┼─────────────────┤\n",
       "│ dropout (\u001b[38;5;33mDropout\u001b[0m)                    │ (\u001b[38;5;45mNone\u001b[0m, \u001b[38;5;34m128\u001b[0m)                 │               \u001b[38;5;34m0\u001b[0m │\n",
       "├──────────────────────────────────────┼─────────────────────────────┼─────────────────┤\n",
       "│ dense (\u001b[38;5;33mDense\u001b[0m)                        │ (\u001b[38;5;45mNone\u001b[0m, \u001b[38;5;34m64\u001b[0m)                  │           \u001b[38;5;34m8,256\u001b[0m │\n",
       "├──────────────────────────────────────┼─────────────────────────────┼─────────────────┤\n",
       "│ dense_1 (\u001b[38;5;33mDense\u001b[0m)                      │ (\u001b[38;5;45mNone\u001b[0m, \u001b[38;5;34m1\u001b[0m)                   │              \u001b[38;5;34m65\u001b[0m │\n",
       "└──────────────────────────────────────┴─────────────────────────────┴─────────────────┘\n"
      ]
     },
     "metadata": {},
     "output_type": "display_data"
    },
    {
     "data": {
      "text/html": [
       "<pre style=\"white-space:pre;overflow-x:auto;line-height:normal;font-family:Menlo,'DejaVu Sans Mono',consolas,'Courier New',monospace\"><span style=\"font-weight: bold\"> Total params: </span><span style=\"color: #00af00; text-decoration-color: #00af00\">111,041</span> (433.75 KB)\n",
       "</pre>\n"
      ],
      "text/plain": [
       "\u001b[1m Total params: \u001b[0m\u001b[38;5;34m111,041\u001b[0m (433.75 KB)\n"
      ]
     },
     "metadata": {},
     "output_type": "display_data"
    },
    {
     "data": {
      "text/html": [
       "<pre style=\"white-space:pre;overflow-x:auto;line-height:normal;font-family:Menlo,'DejaVu Sans Mono',consolas,'Courier New',monospace\"><span style=\"font-weight: bold\"> Trainable params: </span><span style=\"color: #00af00; text-decoration-color: #00af00\">111,041</span> (433.75 KB)\n",
       "</pre>\n"
      ],
      "text/plain": [
       "\u001b[1m Trainable params: \u001b[0m\u001b[38;5;34m111,041\u001b[0m (433.75 KB)\n"
      ]
     },
     "metadata": {},
     "output_type": "display_data"
    },
    {
     "data": {
      "text/html": [
       "<pre style=\"white-space:pre;overflow-x:auto;line-height:normal;font-family:Menlo,'DejaVu Sans Mono',consolas,'Courier New',monospace\"><span style=\"font-weight: bold\"> Non-trainable params: </span><span style=\"color: #00af00; text-decoration-color: #00af00\">0</span> (0.00 B)\n",
       "</pre>\n"
      ],
      "text/plain": [
       "\u001b[1m Non-trainable params: \u001b[0m\u001b[38;5;34m0\u001b[0m (0.00 B)\n"
      ]
     },
     "metadata": {},
     "output_type": "display_data"
    }
   ],
   "source": [
    "# Compile the model\n",
    "model.compile(optimizer=Adam(learning_rate=0.001), loss='mse', metrics=['mae'])\n",
    "\n",
    "# Summary\n",
    "model.summary()"
   ]
  },
  {
   "cell_type": "markdown",
   "id": "7903ee1d-e346-4b2f-bba2-94ed9264e5d9",
   "metadata": {},
   "source": [
    "## Step 3: Split Data for Validation"
   ]
  },
  {
   "cell_type": "code",
   "execution_count": 20,
   "id": "cdc894e8-ef01-4877-b07e-386af186114f",
   "metadata": {},
   "outputs": [],
   "source": [
    "from sklearn.model_selection import train_test_split\n",
    "\n",
    "X_tr, X_val, y_tr, y_val = train_test_split(X_train_seq, y_train, test_size=0.2, random_state=42)"
   ]
  },
  {
   "cell_type": "markdown",
   "id": "e1470806-aa17-4880-8ce0-299ac04f6182",
   "metadata": {},
   "source": [
    "## Step 4: Train the Model"
   ]
  },
  {
   "cell_type": "code",
   "execution_count": 21,
   "id": "6c1b4ceb-a4b0-4883-8918-39389a6cb438",
   "metadata": {},
   "outputs": [
    {
     "name": "stdout",
     "output_type": "stream",
     "text": [
      "Epoch 1/100\n",
      "\u001b[1m12/12\u001b[0m \u001b[32m━━━━━━━━━━━━━━━━━━━━\u001b[0m\u001b[37m\u001b[0m \u001b[1m4s\u001b[0m 44ms/step - loss: 14.1064 - mae: 3.5095 - val_loss: 4.8628 - val_mae: 1.8708\n",
      "Epoch 2/100\n",
      "\u001b[1m12/12\u001b[0m \u001b[32m━━━━━━━━━━━━━━━━━━━━\u001b[0m\u001b[37m\u001b[0m \u001b[1m0s\u001b[0m 11ms/step - loss: 5.4754 - mae: 1.9922 - val_loss: 2.4430 - val_mae: 1.1972\n",
      "Epoch 3/100\n",
      "\u001b[1m12/12\u001b[0m \u001b[32m━━━━━━━━━━━━━━━━━━━━\u001b[0m\u001b[37m\u001b[0m \u001b[1m0s\u001b[0m 11ms/step - loss: 2.8261 - mae: 1.3094 - val_loss: 1.6894 - val_mae: 1.0346\n",
      "Epoch 4/100\n",
      "\u001b[1m12/12\u001b[0m \u001b[32m━━━━━━━━━━━━━━━━━━━━\u001b[0m\u001b[37m\u001b[0m \u001b[1m0s\u001b[0m 12ms/step - loss: 1.8319 - mae: 1.0620 - val_loss: 1.3086 - val_mae: 0.9651\n",
      "Epoch 5/100\n",
      "\u001b[1m12/12\u001b[0m \u001b[32m━━━━━━━━━━━━━━━━━━━━\u001b[0m\u001b[37m\u001b[0m \u001b[1m0s\u001b[0m 10ms/step - loss: 1.4130 - mae: 0.9653 - val_loss: 1.2417 - val_mae: 0.9520\n",
      "Epoch 6/100\n",
      "\u001b[1m12/12\u001b[0m \u001b[32m━━━━━━━━━━━━━━━━━━━━\u001b[0m\u001b[37m\u001b[0m \u001b[1m0s\u001b[0m 10ms/step - loss: 1.2262 - mae: 0.9038 - val_loss: 1.2125 - val_mae: 0.9399\n",
      "Epoch 7/100\n",
      "\u001b[1m12/12\u001b[0m \u001b[32m━━━━━━━━━━━━━━━━━━━━\u001b[0m\u001b[37m\u001b[0m \u001b[1m0s\u001b[0m 12ms/step - loss: 1.1761 - mae: 0.8951 - val_loss: 1.1519 - val_mae: 0.9175\n",
      "Epoch 8/100\n",
      "\u001b[1m12/12\u001b[0m \u001b[32m━━━━━━━━━━━━━━━━━━━━\u001b[0m\u001b[37m\u001b[0m \u001b[1m0s\u001b[0m 9ms/step - loss: 1.0758 - mae: 0.8454 - val_loss: 1.1522 - val_mae: 0.9260\n",
      "Epoch 9/100\n",
      "\u001b[1m12/12\u001b[0m \u001b[32m━━━━━━━━━━━━━━━━━━━━\u001b[0m\u001b[37m\u001b[0m \u001b[1m0s\u001b[0m 13ms/step - loss: 1.1172 - mae: 0.8906 - val_loss: 1.1460 - val_mae: 0.9198\n",
      "Epoch 10/100\n",
      "\u001b[1m12/12\u001b[0m \u001b[32m━━━━━━━━━━━━━━━━━━━━\u001b[0m\u001b[37m\u001b[0m \u001b[1m0s\u001b[0m 11ms/step - loss: 0.9707 - mae: 0.8302 - val_loss: 1.1259 - val_mae: 0.9159\n",
      "Epoch 11/100\n",
      "\u001b[1m12/12\u001b[0m \u001b[32m━━━━━━━━━━━━━━━━━━━━\u001b[0m\u001b[37m\u001b[0m \u001b[1m0s\u001b[0m 10ms/step - loss: 1.0504 - mae: 0.8490 - val_loss: 1.1279 - val_mae: 0.9076\n",
      "Epoch 12/100\n",
      "\u001b[1m12/12\u001b[0m \u001b[32m━━━━━━━━━━━━━━━━━━━━\u001b[0m\u001b[37m\u001b[0m \u001b[1m0s\u001b[0m 9ms/step - loss: 0.9813 - mae: 0.8059 - val_loss: 1.1069 - val_mae: 0.9024\n",
      "Epoch 13/100\n",
      "\u001b[1m12/12\u001b[0m \u001b[32m━━━━━━━━━━━━━━━━━━━━\u001b[0m\u001b[37m\u001b[0m \u001b[1m0s\u001b[0m 9ms/step - loss: 1.0430 - mae: 0.8504 - val_loss: 1.1241 - val_mae: 0.9086\n",
      "Epoch 14/100\n",
      "\u001b[1m12/12\u001b[0m \u001b[32m━━━━━━━━━━━━━━━━━━━━\u001b[0m\u001b[37m\u001b[0m \u001b[1m0s\u001b[0m 10ms/step - loss: 0.9554 - mae: 0.7925 - val_loss: 1.1377 - val_mae: 0.9091\n",
      "Epoch 15/100\n",
      "\u001b[1m12/12\u001b[0m \u001b[32m━━━━━━━━━━━━━━━━━━━━\u001b[0m\u001b[37m\u001b[0m \u001b[1m0s\u001b[0m 9ms/step - loss: 0.8984 - mae: 0.7674 - val_loss: 1.1311 - val_mae: 0.9037\n",
      "Epoch 16/100\n",
      "\u001b[1m12/12\u001b[0m \u001b[32m━━━━━━━━━━━━━━━━━━━━\u001b[0m\u001b[37m\u001b[0m \u001b[1m0s\u001b[0m 9ms/step - loss: 0.8643 - mae: 0.7589 - val_loss: 1.1257 - val_mae: 0.9055\n",
      "Epoch 17/100\n",
      "\u001b[1m12/12\u001b[0m \u001b[32m━━━━━━━━━━━━━━━━━━━━\u001b[0m\u001b[37m\u001b[0m \u001b[1m0s\u001b[0m 9ms/step - loss: 0.8338 - mae: 0.7405 - val_loss: 1.1455 - val_mae: 0.9140\n",
      "Epoch 18/100\n",
      "\u001b[1m12/12\u001b[0m \u001b[32m━━━━━━━━━━━━━━━━━━━━\u001b[0m\u001b[37m\u001b[0m \u001b[1m0s\u001b[0m 9ms/step - loss: 0.8663 - mae: 0.7511 - val_loss: 1.1457 - val_mae: 0.9154\n",
      "Epoch 19/100\n",
      "\u001b[1m12/12\u001b[0m \u001b[32m━━━━━━━━━━━━━━━━━━━━\u001b[0m\u001b[37m\u001b[0m \u001b[1m0s\u001b[0m 9ms/step - loss: 0.8653 - mae: 0.7551 - val_loss: 1.1666 - val_mae: 0.9200\n",
      "Epoch 20/100\n",
      "\u001b[1m12/12\u001b[0m \u001b[32m━━━━━━━━━━━━━━━━━━━━\u001b[0m\u001b[37m\u001b[0m \u001b[1m0s\u001b[0m 9ms/step - loss: 0.8246 - mae: 0.7338 - val_loss: 1.1156 - val_mae: 0.8940\n",
      "Epoch 21/100\n",
      "\u001b[1m12/12\u001b[0m \u001b[32m━━━━━━━━━━━━━━━━━━━━\u001b[0m\u001b[37m\u001b[0m \u001b[1m0s\u001b[0m 9ms/step - loss: 0.7363 - mae: 0.6919 - val_loss: 1.1164 - val_mae: 0.8891\n",
      "Epoch 22/100\n",
      "\u001b[1m12/12\u001b[0m \u001b[32m━━━━━━━━━━━━━━━━━━━━\u001b[0m\u001b[37m\u001b[0m \u001b[1m0s\u001b[0m 10ms/step - loss: 0.8240 - mae: 0.7419 - val_loss: 1.1073 - val_mae: 0.8824\n"
     ]
    }
   ],
   "source": [
    "from tensorflow.keras.callbacks import EarlyStopping\n",
    "\n",
    "# Add EarlyStopping to avoid overfitting\n",
    "early_stop = EarlyStopping(patience=10, restore_best_weights=True)\n",
    "\n",
    "# Fit the model\n",
    "history = model.fit(\n",
    "    X_tr, y_tr,\n",
    "    validation_data=(X_val, y_val),\n",
    "    epochs=100,\n",
    "    batch_size=32,\n",
    "    callbacks=[early_stop],\n",
    "    verbose=1\n",
    ")"
   ]
  },
  {
   "cell_type": "markdown",
   "id": "d67d8e2f-1086-4ae3-b858-fac12d95dacb",
   "metadata": {},
   "source": [
    "## Step 5: Evaluate on Validation Set"
   ]
  },
  {
   "cell_type": "code",
   "execution_count": 22,
   "id": "bdbcdaaa-489d-416f-b73c-ec5ffb2d0a68",
   "metadata": {},
   "outputs": [
    {
     "name": "stdout",
     "output_type": "stream",
     "text": [
      "\u001b[1m3/3\u001b[0m \u001b[32m━━━━━━━━━━━━━━━━━━━━\u001b[0m\u001b[37m\u001b[0m \u001b[1m1s\u001b[0m 131ms/step\n",
      "MAE: 0.9024\n",
      "MSE: 1.1069\n",
      "R² Score: 0.1880\n",
      "Pearson Correlation: 0.4443\n"
     ]
    }
   ],
   "source": [
    "from sklearn.metrics import mean_absolute_error, mean_squared_error, r2_score\n",
    "from scipy.stats import pearsonr\n",
    "import numpy as np\n",
    "\n",
    "# Predict\n",
    "y_val_pred = model.predict(X_val).flatten()\n",
    "\n",
    "# Evaluation\n",
    "mae = mean_absolute_error(y_val, y_val_pred)\n",
    "mse = mean_squared_error(y_val, y_val_pred)\n",
    "r2 = r2_score(y_val, y_val_pred)\n",
    "pearson_corr, _ = pearsonr(y_val, y_val_pred)\n",
    "\n",
    "print(f\"MAE: {mae:.4f}\")\n",
    "print(f\"MSE: {mse:.4f}\")\n",
    "print(f\"R² Score: {r2:.4f}\")\n",
    "print(f\"Pearson Correlation: {pearson_corr:.4f}\")"
   ]
  },
  {
   "cell_type": "markdown",
   "id": "e644b731-e665-4a73-b112-88a04a5b0465",
   "metadata": {},
   "source": [
    "## Step 6: Visualizing CNN+LSTM Model Performance"
   ]
  },
  {
   "cell_type": "code",
   "execution_count": 23,
   "id": "63db728a-1109-48f4-bf11-2c1bf38aee58",
   "metadata": {},
   "outputs": [
    {
     "data": {
      "image/png": "[encoded data removed]",
      "text/plain": [
       "<Figure size 800x600 with 1 Axes>"
      ]
     },
     "metadata": {},
     "output_type": "display_data"
    },
    {
     "data": {
      "image/png": "[encoded data removed]",
      "text/plain": [
       "<Figure size 800x400 with 1 Axes>"
      ]
     },
     "metadata": {},
     "output_type": "display_data"
    }
   ],
   "source": [
    "import seaborn as sns\n",
    "import matplotlib.pyplot as plt\n",
    "import numpy as np\n",
    "\n",
    "# -------------------------------\n",
    "# Actual vs Predicted Plot\n",
    "# -------------------------------\n",
    "# This helps in understanding how close predictions are to actual values.\n",
    "plt.figure(figsize=(8, 6))\n",
    "sns.scatterplot(x=y_val, y=y_val_pred, color='green', s=60, edgecolor='black')\n",
    "plt.plot([y_val.min(), y_val.max()], [y_val.min(), y_val.max()], 'r--', lw=2)\n",
    "plt.title(\"Actual vs Predicted Grammar Score (Validation Set)\", fontsize=14)\n",
    "plt.xlabel(\"Actual Score\", fontsize=12)\n",
    "plt.ylabel(\"Predicted Score\", fontsize=12)\n",
    "plt.grid(True)\n",
    "plt.tight_layout()\n",
    "plt.show()\n",
    "\n",
    "# -------------------------------\n",
    "# Residual Distribution Plot\n",
    "# -------------------------------\n",
    "# Residuals (errors) should ideally be normally distributed around 0.\n",
    "residuals = y_val - y_val_pred\n",
    "plt.figure(figsize=(8, 4))\n",
    "sns.histplot(residuals, kde=True, color='purple', bins=30)\n",
    "plt.title(\"Residual Distribution (Validation Set)\", fontsize=14)\n",
    "plt.xlabel(\"Residuals\", fontsize=12)\n",
    "plt.grid(True)\n",
    "plt.tight_layout()\n",
    "plt.show()"
   ]
  },
  {
   "cell_type": "markdown",
   "id": "ede5c5f8-fa4c-4b13-bbe1-be8d39b558aa",
   "metadata": {},
   "source": [
    "## Step 7: Final Prediction on Test Data"
   ]
  },
  {
   "cell_type": "code",
   "execution_count": 24,
   "id": "b2423dde-b37a-44ff-a31e-a00ad95cce78",
   "metadata": {},
   "outputs": [
    {
     "name": "stdout",
     "output_type": "stream",
     "text": [
      "\u001b[1m7/7\u001b[0m \u001b[32m━━━━━━━━━━━━━━━━━━━━\u001b[0m\u001b[37m\u001b[0m \u001b[1m0s\u001b[0m 6ms/step \n",
      "Submission file saved as `CNN_LSTM_TEST.csv`\n"
     ]
    }
   ],
   "source": [
    "# Predict on test data\n",
    "y_test_pred = model.predict(X_test_seq).flatten()\n",
    "\n",
    "# Create submission file\n",
    "submission_df = pd.DataFrame({\n",
    "    'filename': test_df['filename'],\n",
    "    'label': y_test_pred\n",
    "})\n",
    "\n",
    "submission_df.to_csv(\"CNN_LSTM_TEST.csv\", index=False)\n",
    "print(\"Submission file saved as `CNN_LSTM_TEST.csv`\")"
   ]
  },
  {
   "cell_type": "markdown",
   "id": "b95125cb-41a8-4ee7-9535-05afb35ae836",
   "metadata": {},
   "source": [
    "# **Wav2Vec 2.0 model**"
   ]
  },
  {
   "cell_type": "markdown",
   "id": "07c37c86-476e-44c4-a4c1-9a0ba2921efa",
   "metadata": {},
   "source": [
    "## Step 1: Load Wav2Vec 2.0 model and processor"
   ]
  },
  {
   "cell_type": "code",
   "execution_count": 1,
   "id": "bd762094-606a-4860-a8ee-318e18813363",
   "metadata": {},
   "outputs": [
    {
     "name": "stdout",
     "output_type": "stream",
     "text": [
      "WARNING:tensorflow:From C:\\Users\\dell\\AppData\\Roaming\\Python\\Python312\\site-packages\\tf_keras\\src\\losses.py:2976: The name tf.losses.sparse_softmax_cross_entropy is deprecated. Please use tf.compat.v1.losses.sparse_softmax_cross_entropy instead.\n",
      "\n",
      "WARNING:tensorflow:From C:\\Users\\dell\\AppData\\Roaming\\Python\\Python312\\site-packages\\tf_keras\\src\\backend.py:873: The name tf.get_default_graph is deprecated. Please use tf.compat.v1.get_default_graph instead.\n",
      "\n"
     ]
    },
    {
     "name": "stderr",
     "output_type": "stream",
     "text": [
      "\n",
      "TFWav2Vec2Model has backpropagation operations that are NOT supported on CPU. If you wish to train/fine-tune this model, you need a GPU or a TPU\n",
      "Some weights of the PyTorch model were not used when initializing the TF 2.0 model TFWav2Vec2Model: ['lm_head.weight', 'lm_head.bias']\n",
      "- This IS expected if you are initializing TFWav2Vec2Model from a PyTorch model trained on another task or with another architecture (e.g. initializing a TFBertForSequenceClassification model from a BertForPreTraining model).\n",
      "- This IS NOT expected if you are initializing TFWav2Vec2Model from a PyTorch model that you expect to be exactly identical (e.g. initializing a TFBertForSequenceClassification model from a BertForSequenceClassification model).\n",
      "Some weights or buffers of the TF 2.0 model TFWav2Vec2Model were not initialized from the PyTorch model and are newly initialized: ['wav2vec2.masked_spec_embed']\n",
      "You should probably TRAIN this model on a down-stream task to be able to use it for predictions and inference.\n"
     ]
    }
   ],
   "source": [
    "from transformers import TFWav2Vec2Model, Wav2Vec2Processor\n",
    "\n",
    "# Load Wav2Vec 2.0 model and processor\n",
    "model_name = \"facebook/wav2vec2-base-960h\"\n",
    "try:\n",
    "    processor = Wav2Vec2Processor.from_pretrained(model_name)\n",
    "    wav2vec_model = TFWav2Vec2Model.from_pretrained(model_name)\n",
    "except Exception as e:\n",
    "    print(f\"Error loading Wav2Vec2 model: {e}\")\n",
    "    exit()"
   ]
  },
  {
   "cell_type": "markdown",
   "id": "61ddf4a1-2b4f-4748-95a9-a23eab86b09b",
   "metadata": {},
   "source": [
    "## Step 2: Feature extraction function"
   ]
  },
  {
   "cell_type": "code",
   "execution_count": 2,
   "id": "5e5500c3-ff06-4cf9-97ed-64680ae4100f",
   "metadata": {},
   "outputs": [],
   "source": [
    "import librosa\n",
    "\n",
    "def extract_wav2vec_features_chunked(file_path, chunk_length_seconds=5, hop_length_seconds=2):\n",
    "    audio, sr = librosa.load(file_path, sr=16000)\n",
    "    chunk_length_samples = int(chunk_length_seconds * sr)\n",
    "    hop_length_samples = int(hop_length_seconds * sr)\n",
    "    all_features = []\n",
    "    for i in range(0, len(audio), hop_length_samples):\n",
    "        chunk = audio[i:i + chunk_length_samples]\n",
    "        if len(chunk) < chunk_length_samples:\n",
    "            chunk = np.pad(chunk, (0, chunk_length_samples - len(chunk))) #Pad short chunks\n",
    "        inputs = processor(chunk, sampling_rate=sr, return_tensors=\"tf\", padding=True)\n",
    "        with tf.device('/CPU:0'):\n",
    "            outputs = wav2vec_model(**inputs)\n",
    "            features = tf.reduce_mean(outputs.last_hidden_state, axis=1).numpy()\n",
    "            all_features.append(features)\n",
    "    return np.array(all_features).mean(axis=0) #Average features across chunks\n",
    "\n",
    "#Modify process_audio_file to use the chunked version\n",
    "def process_audio_file(file_path):\n",
    "    if os.path.exists(file_path):\n",
    "        features = extract_wav2vec_features_chunked(file_path)\n",
    "        return features if features is not None else np.zeros(768)\n",
    "    else:\n",
    "        print(f\"File not found: {file_path}\")\n",
    "        return np.zeros(768)"
   ]
  },
  {
   "cell_type": "markdown",
   "id": "424d8e7a-952d-47d6-849a-e288a6fb6452",
   "metadata": {},
   "source": [
    "## Step 3: Scale features"
   ]
  },
  {
   "cell_type": "code",
   "execution_count": null,
   "id": "9eb4893d-063c-43ae-975b-c6d494da15bc",
   "metadata": {},
   "outputs": [
    {
     "name": "stdout",
     "output_type": "stream",
     "text": [
      "Extracting features from training audio files...\n"
     ]
    },
    {
     "name": "stderr",
     "output_type": "stream",
     "text": [
      "C:\\ProgramData\\anaconda3\\Lib\\site-packages\\paramiko\\pkey.py:82: CryptographyDeprecationWarning: TripleDES has been moved to cryptography.hazmat.decrepit.ciphers.algorithms.TripleDES and will be removed from this module in 48.0.0.\n",
      "  \"cipher\": algorithms.TripleDES,\n",
      "C:\\ProgramData\\anaconda3\\Lib\\site-packages\\paramiko\\transport.py:219: CryptographyDeprecationWarning: Blowfish has been moved to cryptography.hazmat.decrepit.ciphers.algorithms.Blowfish and will be removed from this module in 45.0.0.\n",
      "  \"class\": algorithms.Blowfish,\n",
      "C:\\ProgramData\\anaconda3\\Lib\\site-packages\\paramiko\\transport.py:243: CryptographyDeprecationWarning: TripleDES has been moved to cryptography.hazmat.decrepit.ciphers.algorithms.TripleDES and will be removed from this module in 48.0.0.\n",
      "  \"class\": algorithms.TripleDES,\n",
      "Training files:  65%|███████████████████████████████████████                     | 289/444 [8:37:55<1:36:54, 37.51s/it]"
     ]
    }
   ],
   "source": [
    "from tqdm import tqdm  # progress bar\n",
    "\n",
    "# Feature extraction with progress bar\n",
    "X_train = []\n",
    "print(\"Extracting features from training audio files...\")\n",
    "for file in tqdm(train_df['filename'], desc=\"Training files\"):\n",
    "    file_path = os.path.join(train_audio_path, file)\n",
    "    X_train.append(process_audio_file(file_path))\n",
    "\n",
    "X_test = []\n",
    "print(\"Extracting features from testing audio files...\")\n",
    "for file in tqdm(test_df['filename'], desc=\"Testing files\"):\n",
    "    file_path = os.path.join(test_audio_path, file)\n",
    "    X_test.append(process_audio_file(file_path))\n",
    "\n",
    "X_train = np.array(X_train)\n",
    "X_test = np.array(X_test)\n",
    "y_train = train_df['label'].values\n",
    "\n",
    "# Scaling and PCA\n",
    "print(\"Scaling data...\")\n",
    "scaler = RobustScaler()\n",
    "X_train_scaled = scaler.fit_transform(X_train)\n",
    "X_test_scaled = scaler.transform(X_test)\n",
    "\n",
    "print(\"Applying PCA for dimensionality reduction...\")\n",
    "pca = PCA(n_components=0.95, random_state=42)\n",
    "X_train_pca = pca.fit_transform(X_train_scaled)\n",
    "X_test_pca = pca.t6ransform(X_test_scaled)\n",
    "\n",
    "print(f\"Number of PCA components retained: {pca.n_components_}\")"
   ]
  },
  {
   "cell_type": "markdown",
   "id": "721cb5bb-57ae-43f8-93a7-b95c52a6a62b",
   "metadata": {},
   "source": [
    "## Step 4: Train Random Forest model with hyperparameter tuning"
   ]
  },
  {
   "cell_type": "code",
   "execution_count": null,
   "id": "369c171e-35fc-4fd0-8e75-df065d05ab7e",
   "metadata": {},
   "outputs": [],
   "source": [
    "# Split data into training and validation sets\n",
    "X_train_split, X_val_split, y_train_split, y_val_split = train_test_split(\n",
    "    X_train_pca, y_train, test_size=0.2, random_state=42\n",
    ")"
   ]
  },
  {
   "cell_type": "code",
   "execution_count": null,
   "id": "8f0a3694-6879-43f2-baae-153315d872ad",
   "metadata": {},
   "outputs": [],
   "source": [
    "# Train Random Forest model with hyperparameter tuning\n",
    "param_grid = {\n",
    "    'n_estimators': [100, 200, 300],\n",
    "    'max_depth': [None, 10, 20],\n",
    "    'min_samples_split': [2, 5, 10]\n",
    "}\n",
    "\n",
    "model = RandomForestRegressor(random_state=42)\n",
    "grid_search = GridSearchCV(model, param_grid, scoring='neg_mean_absolute_error', cv=3, n_jobs=-1)\n",
    "grid_search.fit(X_train_split, y_train_split)\n",
    "\n",
    "best_model = grid_search.best_estimator_\n",
    "print(f\"Best hyperparameters: {grid_search.best_params_}\")\n",
    "\n",
    "# Make predictions on the validation set\n",
    "y_pred = best_model.predict(X_val_split)\n",
    "\n",
    "# Evaluate the model on the validation set\n",
    "mae = mean_absolute_error(y_val_split, y_pred)\n",
    "mse = mean_squared_error(y_val_split, y_pred)\n",
    "r2 = r2_score(y_val_split, y_pred)\n",
    "pearson_corr, _ = pearsonr(y_val_split, y_pred)\n",
    "\n",
    "print(f\"Pearson Correlation (Validation): {pearson_corr:.4f}\")\n",
    "print(f\"MAE (Validation): {mae:.4f}\")\n",
    "print(f\"MSE (Validation): {mse:.4f}\")\n",
    "print(f\"R-squared (Validation): {r2:.4f}\")"
   ]
  },
  {
   "cell_type": "code",
   "execution_count": null,
   "id": "758a6e9b-f60c-4ad9-98f4-614543787aaa",
   "metadata": {},
   "outputs": [],
   "source": [
    "# Make predictions on the test set\n",
    "y_test_pred = best_model.predict(X_test_pca)"
   ]
  },
  {
   "cell_type": "markdown",
   "id": "55cc8c7d-ef89-4159-b646-2363b4aa8f89",
   "metadata": {},
   "source": [
    "## Step 5: Performance Evaluation"
   ]
  },
  {
   "cell_type": "markdown",
   "id": "554db2b0-df8d-4f0f-84df-ea3a0705da17",
   "metadata": {},
   "source": [
    "### Scatter Plot of True vs. Predicted Scores:"
   ]
  },
  {
   "cell_type": "code",
   "execution_count": null,
   "id": "7243d001-8caa-491b-a09d-f863b10e9966",
   "metadata": {},
   "outputs": [],
   "source": [
    "import seaborn as sns\n",
    "import matplotlib.pyplot as plt\n",
    "\n",
    "plt.figure(figsize=(8, 6))\n",
    "sns.regplot(x=y_val, y=y_pred, scatter_kws={'alpha': 0.5}, line_kws={'color': 'red'})\n",
    "plt.xlabel(\"True Grammar Scores\")\n",
    "plt.ylabel(\"Predicted Scores (Random Forest)\")\n",
    "plt.title(\"True vs. Predicted Grammar Scores (Validation Set)\")\n",
    "plt.show()"
   ]
  },
  {
   "cell_type": "markdown",
   "id": "7a5ad271-f7f7-4511-8d3a-3806687a16bf",
   "metadata": {},
   "source": [
    "### Histogram of Prediction Errors"
   ]
  },
  {
   "cell_type": "code",
   "execution_count": null,
   "id": "e4ed700f-abf7-44d9-8cb5-da795e2a1a58",
   "metadata": {},
   "outputs": [],
   "source": [
    "errors = y_val - y_pred\n",
    "plt.figure(figsize=(8, 6))\n",
    "sns.histplot(errors, kde=True)\n",
    "plt.xlabel(\"Prediction Error\")\n",
    "plt.ylabel(\"Frequency\")\n",
    "plt.title(\"Distribution of Prediction Errors (Validation Set)\")\n",
    "plt.show()"
   ]
  },
  {
   "cell_type": "markdown",
   "id": "2c0cf84a-a995-40f9-8813-34df945c9f51",
   "metadata": {},
   "source": [
    "## Step 6: Wav2Vec2 + Linear Regression Submission File"
   ]
  },
  {
   "cell_type": "code",
   "execution_count": null,
   "id": "1a0fc71b-4d58-4d4b-a9a0-5ada3525f91d",
   "metadata": {},
   "outputs": [],
   "source": [
    "# Check shapes before scaling (crucial debugging step)\n",
    "print(\"X_train shape:\", X_train.shape)\n",
    "print(\"X_test shape:\", X_test.shape)\n",
    "\n",
    "#Check for shape consistency\n",
    "if X_train.shape[1] != X_test.shape[1]:\n",
    "    raise ValueError(\"X_train and X_test must have the same number of features.\")\n",
    "\n",
    "# Scale features\n",
    "scaler = MinMaxScaler()\n",
    "X_train_scaled = scaler.fit_transform(X_train)\n",
    "X_test_scaled = scaler.transform(X_test)\n",
    "\n",
    "# Train a linear regression model\n",
    "model = LinearRegression()\n",
    "model.fit(X_train_scaled, y_train)\n",
    "\n",
    "# Predict\n",
    "wav2vec_preds = model.predict(X_test_scaled)\n",
    "\n",
    "# Create submission DataFrame\n",
    "submission_wav2vec = pd.DataFrame({\n",
    "    'filename': valid_test_filenames,\n",
    "    'label': wav2vec_preds\n",
    "})\n",
    "\n",
    "# Save to CSV\n",
    "submission_wav2vec.to_csv('submission_wav2vec.csv', index=False)"
   ]
  },
  {
   "cell_type": "markdown",
   "id": "68906c43-2e16-4a6a-9b46-5b201695e23d",
   "metadata": {},
   "source": [
    "# **XGBoost**"
   ]
  },
  {
   "cell_type": "code",
   "execution_count": 13,
   "id": "ebe01f25-ec15-4d77-967a-9f91a236559e",
   "metadata": {},
   "outputs": [],
   "source": [
    "# Enhanced feature extraction function (including duration, energy, etc.)\n",
    "def extract_features(file_path):\n",
    "    try:\n",
    "        y, sr = librosa.load(file_path, sr=16000)\n",
    "        duration = librosa.get_duration(y=y, sr=sr)\n",
    "        rms = np.mean(librosa.feature.rms(y=y))\n",
    "        mfccs = np.mean(librosa.feature.mfcc(y=y, sr=sr, n_mfcc=13).T, axis=0)\n",
    "        chroma = np.mean(librosa.feature.chroma_stft(y=y, sr=sr).T, axis=0)\n",
    "        contrast = np.mean(librosa.feature.spectral_contrast(y=y, sr=sr).T, axis=0)\n",
    "        tonnetz = np.mean(librosa.feature.tonnetz(y=librosa.effects.harmonic(y), sr=sr).T, axis=0)\n",
    "        zcr = np.mean(librosa.feature.zero_crossing_rate(y))\n",
    "        tempo, _ = librosa.beat.beat_track(y=y, sr=sr)\n",
    "        features = np.hstack([duration, rms, zcr, tempo, mfccs, chroma, contrast, tonnetz])\n",
    "        return features\n",
    "    except Exception as e:\n",
    "        print(f\"Error processing {file_path}: {e}\")\n",
    "        return np.zeros(60)"
   ]
  },
  {
   "cell_type": "code",
   "execution_count": 14,
   "id": "9a5c81e2-d4ac-4be7-8058-98a3de982dd2",
   "metadata": {},
   "outputs": [],
   "source": [
    "# Safe feature extraction with file existence check\n",
    "def process_audio_file(file_path):\n",
    "    if os.path.exists(file_path):\n",
    "        features = extract_features(file_path)\n",
    "        return features if features is not None else np.zeros(60)\n",
    "    else:\n",
    "        print(f\"File not found: {file_path}\")\n",
    "        return np.zeros(60)"
   ]
  },
  {
   "cell_type": "code",
   "execution_count": 32,
   "id": "ffc479b8-5e97-457b-acc9-4ee8f39e71bb",
   "metadata": {},
   "outputs": [
    {
     "name": "stderr",
     "output_type": "stream",
     "text": [
      "Extracting Train Features: 100%|███████████████████████████████████████████████████| 444/444 [1:16:45<00:00, 10.37s/it]\n",
      "Extracting Test Features:  25%|█████████████▌                                         | 48/195 [07:05<17:23,  7.10s/it]"
     ]
    },
    {
     "name": "stdout",
     "output_type": "stream",
     "text": [
      "File not found: C:/Users/dell/SHL Hiring Assessment/dataset/audios_test\\audio_177.wav\n",
      "❌ Invalid shape or type from C:/Users/dell/SHL Hiring Assessment/dataset/audios_test\\audio_177.wav, padding with zeros.\n"
     ]
    },
    {
     "name": "stderr",
     "output_type": "stream",
     "text": [
      "Extracting Test Features:  37%|████████████████████▌                                  | 73/195 [10:34<16:05,  7.92s/it]"
     ]
    },
    {
     "name": "stdout",
     "output_type": "stream",
     "text": [
      "File not found: C:/Users/dell/SHL Hiring Assessment/dataset/audios_test\\audio_435.wav\n",
      "❌ Invalid shape or type from C:/Users/dell/SHL Hiring Assessment/dataset/audios_test\\audio_435.wav, padding with zeros.\n"
     ]
    },
    {
     "name": "stderr",
     "output_type": "stream",
     "text": [
      "Extracting Test Features:  53%|████████████████████████████▌                         | 103/195 [15:07<21:30, 14.03s/it]"
     ]
    },
    {
     "name": "stdout",
     "output_type": "stream",
     "text": [
      "File not found: C:/Users/dell/SHL Hiring Assessment/dataset/audios_test\\audio_300.wav\n",
      "❌ Invalid shape or type from C:/Users/dell/SHL Hiring Assessment/dataset/audios_test\\audio_300.wav, padding with zeros.\n"
     ]
    },
    {
     "name": "stderr",
     "output_type": "stream",
     "text": [
      "Extracting Test Features:  59%|███████████████████████████████▊                      | 115/195 [16:46<12:15,  9.20s/it]"
     ]
    },
    {
     "name": "stdout",
     "output_type": "stream",
     "text": [
      "File not found: C:/Users/dell/SHL Hiring Assessment/dataset/audios_test\\audio_521.wav\n",
      "❌ Invalid shape or type from C:/Users/dell/SHL Hiring Assessment/dataset/audios_test\\audio_521.wav, padding with zeros.\n"
     ]
    },
    {
     "name": "stderr",
     "output_type": "stream",
     "text": [
      "Extracting Test Features:  62%|█████████████████████████████████▏                    | 120/195 [17:15<08:33,  6.85s/it]"
     ]
    },
    {
     "name": "stdout",
     "output_type": "stream",
     "text": [
      "File not found: C:/Users/dell/SHL Hiring Assessment/dataset/audios_test\\audio_165.wav\n",
      "❌ Invalid shape or type from C:/Users/dell/SHL Hiring Assessment/dataset/audios_test\\audio_165.wav, padding with zeros.\n"
     ]
    },
    {
     "name": "stderr",
     "output_type": "stream",
     "text": [
      "Extracting Test Features:  77%|█████████████████████████████████████████▊            | 151/195 [22:27<06:04,  8.30s/it]"
     ]
    },
    {
     "name": "stdout",
     "output_type": "stream",
     "text": [
      "File not found: C:/Users/dell/SHL Hiring Assessment/dataset/audios_test\\audio_519.wav\n",
      "❌ Invalid shape or type from C:/Users/dell/SHL Hiring Assessment/dataset/audios_test\\audio_519.wav, padding with zeros.\n",
      "File not found: C:/Users/dell/SHL Hiring Assessment/dataset/audios_test\\audio_564.wav\n",
      "❌ Invalid shape or type from C:/Users/dell/SHL Hiring Assessment/dataset/audios_test\\audio_564.wav, padding with zeros.\n"
     ]
    },
    {
     "name": "stderr",
     "output_type": "stream",
     "text": [
      "Extracting Test Features:  84%|█████████████████████████████████████████████▍        | 164/195 [24:25<04:43,  9.15s/it]"
     ]
    },
    {
     "name": "stdout",
     "output_type": "stream",
     "text": [
      "File not found: C:/Users/dell/SHL Hiring Assessment/dataset/audios_test\\audio_235.wav\n",
      "❌ Invalid shape or type from C:/Users/dell/SHL Hiring Assessment/dataset/audios_test\\audio_235.wav, padding with zeros.\n"
     ]
    },
    {
     "name": "stderr",
     "output_type": "stream",
     "text": [
      "Extracting Test Features:  90%|████████████████████████████████████████████████▍     | 175/195 [25:58<02:48,  8.40s/it]"
     ]
    },
    {
     "name": "stdout",
     "output_type": "stream",
     "text": [
      "File not found: C:/Users/dell/SHL Hiring Assessment/dataset/audios_test\\audio_422.wav\n",
      "❌ Invalid shape or type from C:/Users/dell/SHL Hiring Assessment/dataset/audios_test\\audio_422.wav, padding with zeros.\n"
     ]
    },
    {
     "name": "stderr",
     "output_type": "stream",
     "text": [
      "Extracting Test Features: 100%|██████████████████████████████████████████████████████| 195/195 [29:34<00:00,  9.10s/it]\n"
     ]
    },
    {
     "name": "stdout",
     "output_type": "stream",
     "text": [
      "✅ Number of PCA components: 1\n"
     ]
    }
   ],
   "source": [
    "import os\n",
    "import numpy as np\n",
    "import pandas as pd\n",
    "from tqdm import tqdm\n",
    "from sklearn.preprocessing import RobustScaler\n",
    "from sklearn.decomposition import PCA\n",
    "\n",
    "def safe_process_audio(file_path):\n",
    "    try:\n",
    "        features = process_audio_file(file_path)\n",
    "        # Make sure features are 1D and of length 42\n",
    "        if isinstance(features, (list, np.ndarray)) and len(features) == 42:\n",
    "            return np.array(features)\n",
    "        else:\n",
    "            print(f\"❌ Invalid shape or type from {file_path}, padding with zeros.\")\n",
    "            return np.zeros(42)\n",
    "    except Exception as e:\n",
    "        print(f\"⚠️ Error processing {file_path}: {e}\")\n",
    "        return np.zeros(42)\n",
    "\n",
    "# Feature extraction with progress bar\n",
    "X_train = []\n",
    "for file in tqdm(train_df['filename'], desc=\"Extracting Train Features\"):\n",
    "    file_path = os.path.join(train_audio_path, file)\n",
    "    X_train.append(safe_process_audio(file_path))\n",
    "\n",
    "X_test = []\n",
    "for file in tqdm(test_df['filename'], desc=\"Extracting Test Features\"):\n",
    "    file_path = os.path.join(test_audio_path, file)\n",
    "    X_test.append(safe_process_audio(file_path))\n",
    "\n",
    "# Convert to NumPy arrays (safe now)\n",
    "X_train = np.array(X_train)\n",
    "X_test = np.array(X_test)\n",
    "y_train = train_df['label'].values\n",
    "\n",
    "# Feature scaling\n",
    "scaler = RobustScaler()\n",
    "X_train_scaled = scaler.fit_transform(X_train)\n",
    "X_test_scaled = scaler.transform(X_test)\n",
    "\n",
    "# Dimensionality reduction using PCA\n",
    "pca = PCA(n_components=0.95, random_state=42)\n",
    "X_train_pca = pca.fit_transform(X_train_scaled)\n",
    "X_test_pca = pca.transform(X_test_scaled)\n",
    "\n",
    "print(f\"✅ Number of PCA components: {pca.n_components_}\")"
   ]
  },
  {
   "cell_type": "code",
   "execution_count": 33,
   "id": "cec3067d-2f73-4f4f-94e6-3d9bdb74d0c8",
   "metadata": {},
   "outputs": [
    {
     "ename": "NameError",
     "evalue": "name 'GridSearchCV' is not defined",
     "output_type": "error",
     "traceback": [
      "\u001b[1;31m---------------------------------------------------------------------------\u001b[0m",
      "\u001b[1;31mNameError\u001b[0m                                 Traceback (most recent call last)",
      "Cell \u001b[1;32mIn[33], line 16\u001b[0m\n\u001b[0;32m      7\u001b[0m param_grid \u001b[38;5;241m=\u001b[39m {\n\u001b[0;32m      8\u001b[0m     \u001b[38;5;124m'\u001b[39m\u001b[38;5;124mn_estimators\u001b[39m\u001b[38;5;124m'\u001b[39m: [\u001b[38;5;241m100\u001b[39m, \u001b[38;5;241m200\u001b[39m, \u001b[38;5;241m300\u001b[39m],\n\u001b[0;32m      9\u001b[0m     \u001b[38;5;124m'\u001b[39m\u001b[38;5;124mmax_depth\u001b[39m\u001b[38;5;124m'\u001b[39m: [\u001b[38;5;241m3\u001b[39m, \u001b[38;5;241m5\u001b[39m, \u001b[38;5;241m7\u001b[39m, \u001b[38;5;241m9\u001b[39m],\n\u001b[1;32m   (...)\u001b[0m\n\u001b[0;32m     12\u001b[0m     \u001b[38;5;124m'\u001b[39m\u001b[38;5;124mcolsample_bytree\u001b[39m\u001b[38;5;124m'\u001b[39m: [\u001b[38;5;241m0.8\u001b[39m, \u001b[38;5;241m1.0\u001b[39m]\n\u001b[0;32m     13\u001b[0m }\n\u001b[0;32m     15\u001b[0m model \u001b[38;5;241m=\u001b[39m xgb\u001b[38;5;241m.\u001b[39mXGBRegressor(objective\u001b[38;5;241m=\u001b[39m\u001b[38;5;124m'\u001b[39m\u001b[38;5;124mreg:squarederror\u001b[39m\u001b[38;5;124m'\u001b[39m, random_state\u001b[38;5;241m=\u001b[39m\u001b[38;5;241m42\u001b[39m)\n\u001b[1;32m---> 16\u001b[0m grid_search \u001b[38;5;241m=\u001b[39m \u001b[43mGridSearchCV\u001b[49m(model, param_grid, scoring\u001b[38;5;241m=\u001b[39m\u001b[38;5;124m'\u001b[39m\u001b[38;5;124mneg_mean_absolute_error\u001b[39m\u001b[38;5;124m'\u001b[39m, cv\u001b[38;5;241m=\u001b[39m\u001b[38;5;241m3\u001b[39m, n_jobs\u001b[38;5;241m=\u001b[39m\u001b[38;5;241m-\u001b[39m\u001b[38;5;241m1\u001b[39m, verbose\u001b[38;5;241m=\u001b[39m\u001b[38;5;241m1\u001b[39m)\n\u001b[0;32m     17\u001b[0m grid_search\u001b[38;5;241m.\u001b[39mfit(X_train_split, y_train_split)\n\u001b[0;32m     19\u001b[0m best_model \u001b[38;5;241m=\u001b[39m grid_search\u001b[38;5;241m.\u001b[39mbest_estimator_\n",
      "\u001b[1;31mNameError\u001b[0m: name 'GridSearchCV' is not defined"
     ]
    }
   ],
   "source": [
    "# Split data into training and validation sets\n",
    "X_train_split, X_val_split, y_train_split, y_val_split = train_test_split(\n",
    "    X_train_pca, y_train, test_size=0.2, random_state=42\n",
    ")\n",
    "\n",
    "# Train XGBoost model with hyperparameter tuning\n",
    "param_grid = {\n",
    "    'n_estimators': [100, 200, 300],\n",
    "    'max_depth': [3, 5, 7, 9],\n",
    "    'learning_rate': [0.1, 0.05, 0.01],\n",
    "    'subsample': [0.8, 1.0],\n",
    "    'colsample_bytree': [0.8, 1.0]\n",
    "}\n",
    "\n",
    "model = xgb.XGBRegressor(objective='reg:squarederror', random_state=42)\n",
    "grid_search = GridSearchCV(model, param_grid, scoring='neg_mean_absolute_error', cv=3, n_jobs=-1, verbose=1)\n",
    "grid_search.fit(X_train_split, y_train_split)\n",
    "\n",
    "best_model = grid_search.best_estimator_\n",
    "print(f\"Best hyperparameters: {grid_search.best_params_}\")"
   ]
  },
  {
   "cell_type": "code",
   "execution_count": null,
   "id": "8c047e19-f475-4e87-bc14-15bd7cb468cb",
   "metadata": {},
   "outputs": [],
   "source": [
    "# Make predictions\n",
    "y_pred = best_model.predict(X_val_split)\n",
    "\n",
    "# Evaluate the model\n",
    "mae = mean_absolute_error(y_val_split, y_pred)\n",
    "mse = mean_squared_error(y_val_split, y_pred)\n",
    "r2 = r2_score(y_val_split, y_pred)\n",
    "pearson_corr, _ = pearsonr(y_val_split, y_pred)\n",
    " \n",
    "print(f\"Pearson Correlation: {pearson_corr:.4f}\")\n",
    "print(f\"MAE: {mae:.4f}\")\n",
    "print(f\"MSE: {mse:.4f}\")\n",
    "print(f\"R-squared: {r2:.4f}\")"
   ]
  },
  {
   "cell_type": "code",
   "execution_count": null,
   "id": "a95f8888-4196-43d4-a2b2-3d18b15e3db4",
   "metadata": {},
   "outputs": [],
   "source": [
    "# Predict on the test data (already PCA transformed as X_test_pca)\n",
    "xgboost_preds = best_model.predict(X_test_pca)\n",
    "\n",
    "# Create the submission DataFrame\n",
    "submission_xgb = pd.DataFrame({\n",
    "    'filename': valid_test_filenames,  # from your earlier feature extraction loop\n",
    "    'label': xgboost_preds\n",
    "})\n",
    "\n",
    "# Save to CSV\n",
    "submission_xgb.to_csv('submission_xgboost.csv', index=False)"
   ]
  },
  {
   "cell_type": "markdown",
   "id": "6fbebef2-a1dc-4ede-b2b0-70c4eb23094f",
   "metadata": {},
   "source": [
    "# **Ensemble prediction pipeline**"
   ]
  },
  {
   "cell_type": "code",
   "execution_count": null,
   "id": "80f592fe-7490-46f4-9a03-9de17b6d078f",
   "metadata": {},
   "outputs": [],
   "source": [
    "import numpy as np\n",
    "import pandas as pd\n",
    "from scipy.stats import pearsonr\n",
    "import matplotlib.pyplot as plt\n",
    "import seaborn as sns\n",
    "from sklearn.linear_model import LinearRegression"
   ]
  },
  {
   "cell_type": "markdown",
   "id": "41bcec28-d2ae-41e8-953e-9a7fd828a5bd",
   "metadata": {},
   "source": [
    "## Step 1: Load Test Labels"
   ]
  },
  {
   "cell_type": "code",
   "execution_count": null,
   "id": "6b03c022-fc61-494f-9c46-4b1effb61cb3",
   "metadata": {},
   "outputs": [],
   "source": [
    "test_df = pd.read_csv(\"test_cleaned.csv\")\n",
    "y_test = test_df['label'].values"
   ]
  },
  {
   "cell_type": "markdown",
   "id": "4be19bd1-28f3-4d9b-8aaf-30d6b321ee5e",
   "metadata": {},
   "source": [
    "## Step 2: Load or Replace Model Predictions"
   ]
  },
  {
   "cell_type": "code",
   "execution_count": null,
   "id": "ca8f2260-dc5c-49d2-a0d1-4b84efb343ce",
   "metadata": {},
   "outputs": [],
   "source": [
    "random_forest_preds = np.load(\"random_forest_preds.npy\")  # Replace with actual saved predictions\n",
    "cnn_lstm_preds       = np.load(\"cnn_lstm_preds.npy\")       # Replace with actual saved predictions\n",
    "xgboost_preds        = np.load(\"xgboost_preds.npy\")        # Replace with actual saved predictions\n",
    "\n",
    "# --- Normalize each prediction using MinMaxScaler ---\n",
    "scaler = MinMaxScaler()\n",
    "random_forest_preds = scaler.fit_transform(random_forest_preds.reshape(-1, 1)).flatten()\n",
    "cnn_lstm_preds = scaler.fit_transform(cnn_lstm_preds.reshape(-1, 1)).flatten()\n",
    "xgboost_preds = scaler.fit_transform(xgboost_preds.reshape(-1, 1)).flatten()\n",
    "\n",
    "# Check all prediction arrays are same length as y_test\n",
    "assert all(len(pred) == len(y_test) for pred in [random_forest_preds, cnn_lstm_preds, xgboost_preds]), \"Mismatch in prediction lengths\""
   ]
  },
  {
   "cell_type": "markdown",
   "id": "4276fc57-a32f-4ccf-bf95-d433f01ae8b6",
   "metadata": {},
   "source": [
    "## Step 3: Ensemble Methods"
   ]
  },
  {
   "cell_type": "markdown",
   "id": "cfcb8708-1af0-4979-9ece-57d6fee4f6f6",
   "metadata": {},
   "source": [
    "### 1. Simple Averaging"
   ]
  },
  {
   "cell_type": "code",
   "execution_count": null,
   "id": "5eca7e31-9f89-4e5b-99fe-3c0e3c73b5d3",
   "metadata": {},
   "outputs": [],
   "source": [
    "average_preds = np.mean([random_forest_preds, cnn_lstm_preds, xgboost_preds], axis=0)"
   ]
  },
  {
   "cell_type": "markdown",
   "id": "34bc2f39-53bf-4fa3-a3d2-7c1fa299a1ed",
   "metadata": {},
   "source": [
    "### 2. Weighted Averaging"
   ]
  },
  {
   "cell_type": "code",
   "execution_count": null,
   "id": "79a6263b-d414-44b6-86a5-54ea390ed4ac",
   "metadata": {},
   "outputs": [],
   "source": [
    "weights = np.array([0.2, 0.25, 0.3, 0.25])\n",
    "weighted_average_preds = np.average(\n",
    "    [random_forest_preds, cnn_lstm_preds, xgboost_preds],\n",
    "    axis=0,\n",
    "    weights=weights\n",
    ")"
   ]
  },
  {
   "cell_type": "markdown",
   "id": "39684e94-422e-4f5b-a96a-99c5d1bd5882",
   "metadata": {},
   "source": [
    "### 3. Meta-Learner: Linear Regression-based Stacking"
   ]
  },
  {
   "cell_type": "code",
   "execution_count": null,
   "id": "ad690804-d6de-4e09-bc49-c972ac80068e",
   "metadata": {},
   "outputs": [],
   "source": [
    "meta_learner_data = np.column_stack((random_forest_preds, cnn_lstm_preds, xgboost_preds))\n",
    "meta_learner = LinearRegression()\n",
    "meta_learner.fit(meta_learner_data, y_test)\n",
    "meta_learner_preds = meta_learner.predict(meta_learner_data)"
   ]
  },
  {
   "cell_type": "markdown",
   "id": "d5ca8f65-8361-4c76-8de2-00e4633555a1",
   "metadata": {},
   "source": [
    "## Step 4: Evaluation Function"
   ]
  },
  {
   "cell_type": "code",
   "execution_count": null,
   "id": "17c6cabe-f55d-401b-b032-0d51206618e5",
   "metadata": {},
   "outputs": [],
   "source": [
    "def evaluate_ensemble(predictions, method_name):\n",
    "    \"\"\"Evaluate model predictions using Pearson correlation and plot result.\"\"\"\n",
    "    corr, p_value = pearsonr(y_test, predictions)\n",
    "    print(f\"{method_name}\")\n",
    "    print(f\"Pearson Correlation: {corr:.4f}\")\n",
    "    print(f\" p-value: {p_value:.4f}\\n\")\n",
    "    \n",
    "    # Visualization\n",
    "    plt.figure(figsize=(8, 6))\n",
    "    sns.regplot(x=y_test, y=predictions, scatter_kws={'alpha': 0.6}, line_kws={'color': 'red'})\n",
    "    plt.title(f\"True vs Predicted Grammar Scores: {method_name}\", fontsize=14)\n",
    "    plt.xlabel(\"True Scores\")\n",
    "    plt.ylabel(\"Predicted Scores\")\n",
    "    plt.grid(True)\n",
    "    plt.tight_layout()\n",
    "    plt.show()"
   ]
  },
  {
   "cell_type": "markdown",
   "id": "2bc560dc-4275-425e-a19f-424cd4b13de7",
   "metadata": {},
   "source": [
    "## Step 5 : Evaluate All Methods "
   ]
  },
  {
   "cell_type": "code",
   "execution_count": null,
   "id": "1f55b07b-4ef5-45fe-9278-9b8d7a3a450d",
   "metadata": {},
   "outputs": [],
   "source": [
    "evaluate_ensemble(average_preds, \"Simple Averaging\")\n",
    "evaluate_ensemble(weighted_average_preds, \"Weighted Averaging\")\n",
    "evaluate_ensemble(meta_learner_preds, \"Meta-Learner (Linear Regression)\")"
   ]
  },
  {
   "cell_type": "markdown",
   "id": "4cc946a9-082a-4b3c-870c-aa5d5a3fcae2",
   "metadata": {},
   "source": [
    "## Grammar Scoring Engine - Final Report\n",
    "\n",
    "### Objective\n",
    "To build a regression model that predicts grammar scores (0–5 scale) from spoken audio files, using Wav2Vec2 embeddings and deep learning models.\n",
    "\n",
    "### Dataset\n",
    "- 444 training samples and 195 test samples of spoken audio in `.wav` format.\n",
    "- Ground truth labels are MOS Likert-based grammar scores ranging from 1 to 5.\n",
    "\n",
    "### Preprocessing\n",
    "- Audio files were resampled to 16kHz.\n",
    "- Features extracted using Wav2Vec2.\n",
    "- Missing files handled with zero vectors.\n",
    "- MinMaxScaler applied for scaling.\n",
    "- PCA applied to reduce feature dimensionality where needed.\n",
    "- CNN+LSTM input reshaped into 3D.\n",
    "\n",
    "### Models Used\n",
    "- **Random Forest Regressor**\n",
    "- **XGBoost Regressor**\n",
    "- **CNN + LSTM** model\n",
    "- **Wav2Vec2 + Linear Regression**\n",
    "- **Meta-Learner (Linear Regression)** combining all above\n",
    "\n",
    "### Ensemble Techniques\n",
    "- Simple Averaging\n",
    "- Weighted Averaging (based on validation performance)\n",
    "- Meta-Learner with Linear Regression\n",
    "\n",
    "### Evaluation Metrics\n",
    "- **Pearson Correlation** (Primary metric)\n",
    "- **MAE**, **MSE**, **R² Score**\n",
    "- Visualizations: True vs Predicted scatter plots with regression line\n",
    "\n",
    "### Results Summary\n",
    "- Best performance achieved using **Meta-Learner Ensemble**\n",
    "- Visualizations showed strong alignment with actual labels\n",
    "- Feature extraction via Wav2Vec2 proved highly effective\n",
    "\n",
    "### Conclusion\n",
    "This project demonstrates the effectiveness of audio feature extraction combined with ensemble learning for grammar scoring. Further improvement can be made with larger datasets or transformer-based fine-tuned models.\n"
   ]
  }
 ],
 "metadata": {
  "kernelspec": {
   "display_name": "Python (base)",
   "language": "python",
   "name": "base"
  },
  "language_info": {
   "codemirror_mode": {
    "name": "ipython",
    "version": 3
   },
   "file_extension": ".py",
   "mimetype": "text/x-python",
   "name": "python",
   "nbconvert_exporter": "python",
   "pygments_lexer": "ipython3",
   "version": "3.12.7"
  }
 },
 "nbformat": 4,
 "nbformat_minor": 5
}
